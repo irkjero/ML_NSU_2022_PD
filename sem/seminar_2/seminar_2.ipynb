{
 "cells": [
  {
   "cell_type": "markdown",
   "metadata": {},
   "source": [
    "# Семинар 2. Метрики в задаче классификации"
   ]
  },
  {
   "cell_type": "code",
   "execution_count": 2,
   "metadata": {
    "colab": {
     "base_uri": "https://localhost:8080/",
     "height": 324
    },
    "executionInfo": {
     "elapsed": 464,
     "status": "error",
     "timestamp": 1634112684630,
     "user": {
      "displayName": "Борис Иванович Волобой",
      "photoUrl": "https://lh3.googleusercontent.com/a/default-user=s64",
      "userId": "13457562813970233498"
     },
     "user_tz": -420
    },
    "id": "mWcAV32VsL-q",
    "outputId": "65726ad9-3070-44ba-8fd9-16c2c70454b2"
   },
   "outputs": [
    {
     "data": {
      "text/latex": [
       "$\\newcommand{\\Population}                    {\\hat{X}} $\n",
       "$\\newcommand{\\allY}                          {{\\hat{Y}}} $\n",
       "$\\newcommand{\\sampleRealObjects}             {{\\overline{X}}} $\n",
       "$\\newcommand{\\sample}                 {X} $\n",
       "$\\newcommand{\\lensabsetsample} {l}$\n",
       "$\\newcommand{\\answers}                             {Y} $\n",
       "$\\newcommand{\\nbFeatures}                             {M} $\n",
       "$\\newcommand{\\nbObjects}                             {N} $\n",
       "$\\newcommand{\\realNumbers}                    {\\mathbb{R}}$\n",
       "$\\newcommand{\\model}                    {\\mathbb{A}}$\n",
       "$\\newcommand{\\params}                    {\\theta}$\n",
       "$\\newcommand{\\setParams}                    {\\Theta}$\n",
       "$\\newcommand{\\methodLearning}          {\\mu}$\n",
       "$\\newcommand{\\alg}          {\\alpha}$\n",
       "$\\newcommand{\\loss}          {L}$\n",
       "$\\newcommand{\\empericRisk}          {Q}$\n",
       "$\\newcommand{\\learningRate}          {\\gamma}$\n",
       "$\\newcommand{\\distance}          {\\rho}$\n",
       "$\\newcommand{\\margin}          {\\mathbb{M}}$\n",
       "$\\newcommand{\\setClasses}          {C}$"
      ]
     },
     "metadata": {},
     "output_type": "display_data"
    }
   ],
   "source": [
    "import IPython.display\n",
    "IPython.display.display_latex(IPython.display.Latex(filename=\"../macros.tex\"))"
   ]
  },
  {
   "cell_type": "markdown",
   "metadata": {},
   "source": [
    "<img src=\"../images/cls_example.png\">"
   ]
  },
  {
   "cell_type": "markdown",
   "metadata": {},
   "source": [
    "Построить модель легко.  \n",
    "Чтобы улучшить надо уметь оценивать и сравнивать.\n",
    "\n",
    "Функционалы качества/ошибки порой важнее данных. Так как если подобрать не подходящую под задачу функцию потерь мы не обучим модель."
   ]
  },
  {
   "cell_type": "markdown",
   "metadata": {
    "id": "jtS3cf77sL-w"
   },
   "source": [
    "## <center>Метрики качества в задачах классификации</center>"
   ]
  },
  {
   "cell_type": "markdown",
   "metadata": {
    "id": "UpoYWLBHsL-y"
   },
   "source": [
    "Что такое метрика?  \n",
    "Какие метрики классификации вы знаете?"
   ]
  },
  {
   "cell_type": "markdown",
   "metadata": {
    "id": "IcGFq161sL-z"
   },
   "source": [
    "1. $$Accuracy(Mean Consequential Error) = \\frac{true}{all}$$  \n",
    "_Проблема с accuracy_:\n",
    "Несбалансированная выборка:\n",
    "<br>\n",
    "<br>\n",
    "Предположим, что у нас есть некоторая обучающая выбока из 100 объектов, у которой 98 объектов принадлежат классу 0 и всеголишь 2 классу 1. Пусть наш алгоритм всегда предсказывает только класс объектов 0. Если посчитать accuracy такого классификатора. то acc=0.98. Можно ли его назвать хорошим?"
   ]
  },
  {
   "cell_type": "markdown",
   "metadata": {
    "id": "tsmE9d8CsL-0"
   },
   "source": [
    "<center>**Confusion matrix - Матрица ошибок/несоответствий**</center>\n",
    "<img src=\"../images/confusion_matrix.png\">"
   ]
  },
  {
   "cell_type": "markdown",
   "metadata": {
    "id": "8Ss-daMHsL-0"
   },
   "source": [
    "где  \n",
    "TP - алгоритм предсказал, что объект 1 класса и объект действительно 1 класса,  \n",
    "TN - алгоритм предсказал, что объект 0 класса и объект действительно 0 класса,  \n",
    "    FP - алгоритм предсказал, что объект 1 класса, а объект принадлежит классу 0 (ошибкой I рода),  \n",
    "    FN - алгоритм предсказал, что объект 0 класса, а объект принадлежит классу 1 (ошибкой II рода).  "
   ]
  },
  {
   "cell_type": "markdown",
   "metadata": {},
   "source": [
    "1 рода - не учил, но сдал (знает по мнению эксперта)  \n",
    "2 рода - учил, но не сдал (не знает по мнению эксперта)  "
   ]
  },
  {
   "cell_type": "markdown",
   "metadata": {},
   "source": [
    "<img src=\"../images/conf_matrix.png\">"
   ]
  },
  {
   "cell_type": "code",
   "execution_count": 4,
   "metadata": {},
   "outputs": [],
   "source": [
    "from sklearn.metrics import confusion_matrix \n",
    "import pandas as pd\n",
    "\n",
    "data = pd.DataFrame({\n",
    "    'y': [1,1,1,2,2,3,3,3,1,2],\n",
    "    'a': [1,1,2,1,3,2,3,3,2,2],\n",
    "})"
   ]
  },
  {
   "cell_type": "code",
   "execution_count": 5,
   "metadata": {},
   "outputs": [
    {
     "data": {
      "text/plain": [
       "array([[2, 2, 0],\n",
       "       [1, 1, 1],\n",
       "       [0, 1, 2]])"
      ]
     },
     "execution_count": 5,
     "metadata": {},
     "output_type": "execute_result"
    }
   ],
   "source": [
    "confusion_matrix(data.y, data.a)"
   ]
  },
  {
   "cell_type": "code",
   "execution_count": 6,
   "metadata": {},
   "outputs": [
    {
     "data": {
      "text/html": [
       "<div>\n",
       "<style scoped>\n",
       "    .dataframe tbody tr th:only-of-type {\n",
       "        vertical-align: middle;\n",
       "    }\n",
       "\n",
       "    .dataframe tbody tr th {\n",
       "        vertical-align: top;\n",
       "    }\n",
       "\n",
       "    .dataframe thead th {\n",
       "        text-align: right;\n",
       "    }\n",
       "</style>\n",
       "<table border=\"1\" class=\"dataframe\">\n",
       "  <thead>\n",
       "    <tr style=\"text-align: right;\">\n",
       "      <th>a</th>\n",
       "      <th>1</th>\n",
       "      <th>2</th>\n",
       "      <th>3</th>\n",
       "    </tr>\n",
       "    <tr>\n",
       "      <th>y</th>\n",
       "      <th></th>\n",
       "      <th></th>\n",
       "      <th></th>\n",
       "    </tr>\n",
       "  </thead>\n",
       "  <tbody>\n",
       "    <tr>\n",
       "      <th>1</th>\n",
       "      <td>2</td>\n",
       "      <td>2</td>\n",
       "      <td>0</td>\n",
       "    </tr>\n",
       "    <tr>\n",
       "      <th>2</th>\n",
       "      <td>1</td>\n",
       "      <td>1</td>\n",
       "      <td>1</td>\n",
       "    </tr>\n",
       "    <tr>\n",
       "      <th>3</th>\n",
       "      <td>0</td>\n",
       "      <td>1</td>\n",
       "      <td>2</td>\n",
       "    </tr>\n",
       "  </tbody>\n",
       "</table>\n",
       "</div>"
      ],
      "text/plain": [
       "a  1  2  3\n",
       "y         \n",
       "1  2  2  0\n",
       "2  1  1  1\n",
       "3  0  1  2"
      ]
     },
     "execution_count": 6,
     "metadata": {},
     "output_type": "execute_result"
    }
   ],
   "source": [
    "pd.crosstab(data.y, data.a)"
   ]
  },
  {
   "cell_type": "markdown",
   "metadata": {
    "id": "epimhXCosL-1"
   },
   "source": [
    "В таких терминах, $$accuracy = \\frac{TP+TN}{TP+TN+FP+FN} = = \\frac{\\#True}{\\#All}$$ "
   ]
  },
  {
   "cell_type": "markdown",
   "metadata": {},
   "source": [
    "$$ MCE = \\frac{1}{m} * \\sum_{i=1}^{m} I[a_i = y_i] = \\frac{\\sum_t^l{m_{tt}}}{\\sum_t^l\\sum_s^l{m_{ts}}}$$\n",
    "$$ m_{ij} = \\sum_{t=1}^m{I[a_t = i]I[y_t = j]} $$, классы {1, 2, 3, .., l}"
   ]
  },
  {
   "cell_type": "markdown",
   "metadata": {},
   "source": [
    "## Recall / Полнота / True Positive Rate/ Sensitivity"
   ]
  },
  {
   "cell_type": "markdown",
   "metadata": {},
   "source": [
    "Давайте теперь введем (вспомним с лекции) следущие метрики: precision(точность) и recall(полнота).\n",
    "$$recall= \\frac{TP}{TP+FN}$$"
   ]
  },
  {
   "cell_type": "markdown",
   "metadata": {
    "id": "gnGyC0UmsL-2"
   },
   "source": [
    "Какой процент объектов положительного класса мы правильно классифицировали.  \n",
    "Полнота говорит о том, действительно ли все объекты класса 1 мы отнесли к этому классу.  "
   ]
  },
  {
   "cell_type": "markdown",
   "metadata": {},
   "source": [
    "<img src=\"../images/recall.png\">"
   ]
  },
  {
   "cell_type": "markdown",
   "metadata": {},
   "source": [
    "## Precision / точность / Positive prediction value"
   ]
  },
  {
   "cell_type": "markdown",
   "metadata": {},
   "source": [
    "$$precision = \\frac{TP}{TP+FP}$$"
   ]
  },
  {
   "cell_type": "markdown",
   "metadata": {},
   "source": [
    "Какой процент положительных примеров правильно классифицирован(действительно положительные).  \n",
    "Насколько хорошо мы понимаем, что делаем и не относим все с подряд объекты к классу 1."
   ]
  },
  {
   "cell_type": "markdown",
   "metadata": {},
   "source": [
    "<img src=\"../images/precision.png\">"
   ]
  },
  {
   "cell_type": "markdown",
   "metadata": {},
   "source": [
    "Понятно, что максимальные значения для точности и полноты это 1.  \n",
    "Давайте теперь измерим качество нашего классификатора:  \n",
    "$$precision = \\frac{0}{0+0} = 0$$\n",
    "$$recall = \\frac{0}{2+0} = 0$$\n",
    "Согласитесь, качество так себе."
   ]
  },
  {
   "cell_type": "markdown",
   "metadata": {},
   "source": [
    "Рассмотрим, например, задачу предсказания реакции клиента банка на звонок с предложением кредита.  \n",
    "Ответ y = 1 -  означает, что клиент возьмет кредит после рекламного звонка,  \n",
    "ответ y = -1 - что не возьмет.  \n",
    "Соответственно, планируется обзванивать только тех клиентов, для которых  \n",
    "классификатор $a(x)$ вернет ответ$1$.  \n",
    "Если классификатор имеет высокую точность, то практически все клиенты, которым  \n",
    "будет сделано предложение, откликнутся на него.  \n",
    "Если классификатор имеет высокую полноту, то предложение будет сделано практически  \n",
    "всем клиентам, которые готовы откликнуться на него.  \n",
    "Как правило, можно регулировать точность и полноту, изменяя порог $t$  \n",
    "в классификаторе $$a(x) = sign(b(x) - t) = 2 [b(x) > t] - 1$$.  \n",
    "Если выбрать $t$ большим, то классификатор будет относить к положительному классу  \n",
    "небольшое число объектов, что приведет к высокой точности и низкой полноте.  \n",
    "По мере уменьшения $t$ точность будет падать, а полнота увеличиваться.  \n",
    "Конкретное значение порога выбирается согласно пожеланиям заказчика.  "
   ]
  },
  {
   "cell_type": "markdown",
   "metadata": {},
   "source": [
    "## F-мера"
   ]
  },
  {
   "cell_type": "markdown",
   "metadata": {
    "id": "gGIxkWwusL-3"
   },
   "source": [
    "Есть метрика, которая позволяет объеденить precision и recall в одну, так называемая F-мера. Она является гармоническим средним между точностью и полнотой:$$F = 2{\\frac{precision*recall}{precision+recall}}$$  и равна 1, когда точность и полнота равны 1."
   ]
  },
  {
   "cell_type": "markdown",
   "metadata": {},
   "source": [
    "Она будет близка к нулю если хоть одна из метрик близка к нулю в отличие от среднего арифметического(около 1/2)."
   ]
  },
  {
   "cell_type": "markdown",
   "metadata": {},
   "source": [
    "<img src=\"../images/F1_vs_min.png\">"
   ]
  },
  {
   "cell_type": "markdown",
   "metadata": {},
   "source": [
    "Слева - линии уровня для функции min(recall, precision), справа - для F меры."
   ]
  },
  {
   "cell_type": "code",
   "execution_count": null,
   "metadata": {},
   "outputs": [],
   "source": []
  },
  {
   "cell_type": "markdown",
   "metadata": {
    "id": "V7fKHbWZsL-4"
   },
   "source": [
    "Precision и Recall это не 2 разных метрики, они обычно используются в паре.\n",
    "<br>\n",
    "<br>\n",
    "$$\\forall x \\:\\: \\alg(x) = 1\\Rightarrow Recall = 100\\%$$\n",
    "<br>\n",
    "$$\\forall x \\:\\: \\alg(x) = 0\\Rightarrow Type \\:I \\:error (FP) = 0$$\n",
    "<br>\n",
    "Но в зависимости от задачи вы можете выбирать, что приоритетнее."
   ]
  },
  {
   "cell_type": "markdown",
   "metadata": {},
   "source": [
    "## Score classification"
   ]
  },
  {
   "cell_type": "markdown",
   "metadata": {
    "id": "QxroD4sGsL-4"
   },
   "source": [
    "__Почему бинарные ответы не всегда подходят?__\n",
    "\n",
    "\n",
    "__Что делать, если заказчик не определился с порогом?__"
   ]
  },
  {
   "cell_type": "markdown",
   "metadata": {
    "id": "bn_Rhp6VsL-5"
   },
   "source": [
    "* Пусть есть алгоритм b(x) – оценивает вероятность  \n",
    "* Классификатор a(x) = [b(x) > 0.9]\n",
    "* precision=0.2, recall=0.7  \n",
    "* Плохой алгоритм или порог не очень?\n"
   ]
  },
  {
   "cell_type": "markdown",
   "metadata": {
    "id": "P-EJPiihsL-5"
   },
   "source": [
    "**Precision and Recall depend on the balance of classes**"
   ]
  },
  {
   "cell_type": "markdown",
   "metadata": {
    "id": "BT1n8IPwsL-6"
   },
   "source": [
    "Пусть вы обучили классификатор, пусть он предсказывает в среднем правильно(правильно, это когда объект класса 0 относится к 0, а 1 к 1) с вероятностью P = 0.8. Возьмем выборку, где 50 объектов относится к классу 0, 50 к классу 1. Посчитаем PR."
   ]
  },
  {
   "cell_type": "markdown",
   "metadata": {
    "id": "9YDbSZHdsL-7"
   },
   "source": [
    "TP = PxN_1 = 0.8x50 = 40\n",
    "<br>\n",
    "FP = (1-P)xN_0 = 0.2x50 = 10;\n",
    "<br>\n",
    "FN = (1-P)xN_1 = 0.2x50 = 10;\n",
    "<br>\n",
    "Precision = TP / (TP + FP) = 40 / 50 = 0.8\n",
    "<br>\n",
    "Recall = TP / (TP + FN) = 40 / 50 = 0.8"
   ]
  },
  {
   "cell_type": "markdown",
   "metadata": {
    "id": "-lk8aNDcsL-7"
   },
   "source": [
    "А теперь возьмем тот же классификатор, но будем мерить на другой выборке. Там объектов нулевого класса 50, а объектов первого класса 10. И посчитаем все то же самое"
   ]
  },
  {
   "cell_type": "markdown",
   "metadata": {
    "id": "TD9tKwaosL-7"
   },
   "source": [
    "TP = PxN_1 = 0.8x10 = 8\n",
    "<br>\n",
    "FP = (1-P)xN_0 = 0.2x50 = 10;\n",
    "<br>\n",
    "FN = (1-P)xN_1 = 0.2x10 = 2;\n",
    "<br>\n",
    "Precision = TP / (TP + FP) = 8 / 18 = 0.44444\n",
    "<br>\n",
    "Recall = TP / (TP + FN) = 8 / 10 = 0.8"
   ]
  },
  {
   "cell_type": "markdown",
   "metadata": {
    "id": "tHipLVjDsL-8"
   },
   "source": [
    "Давайте сделаем следующее: пусть у нас есть классфикатор, который с некой уверенностью предсказывает, \n",
    "принадлежит ли объект к классу 1. Отсортируем все объекты по возрастанию уверенности классификатора. И начнем строить значения precision и recall начиная с уверенности один, и так по убыванию. Теперь для порога 0.9:точность 1, а полнота 1/(1+2) "
   ]
  },
  {
   "cell_type": "markdown",
   "metadata": {
    "id": "eCeceNvmsL-8"
   },
   "source": [
    "<img src=\"../images/PR-AUC.png\" style=\"width: 300px;\">"
   ]
  },
  {
   "cell_type": "markdown",
   "metadata": {
    "id": "ugn3zW3AsL-9"
   },
   "source": [
    "Порог 0 => TP=3, FP=3, FN=0 => P=1/2, R=1  \n",
    "\n",
    "0 0.14\n",
    "TP  3 FP  3 FN  0\n",
    "P  0.5 R  1.0\n",
    "\n",
    "1 0.23\n",
    "TP  3 FP  2 FN  0\n",
    "P  0.6 R  1.0\n",
    "\n",
    "0 0.39\n",
    "TP  2 FP  2 FN  1\n",
    "P  0.5 R  0.6(6)\n",
    "\n",
    "0 0.52\n",
    "TP  2 FP  1 FN  1\n",
    "P  0.6(6) R  0.6(6)\n",
    "\n",
    "1 0.73\n",
    "TP  2 FP  0 FN  1\n",
    "P  1.0 R  0.6(6) (два объекта)\n",
    "\n",
    "1 0.9\n",
    "TP  1 FP  0 FN  2\n",
    "P  1.0 R  0.3(3) (один объект)\n",
    "\n",
    "Порог 1.0 => TP=0 => PR=0  "
   ]
  },
  {
   "cell_type": "markdown",
   "metadata": {},
   "source": [
    "Данную величину можно аппроксимировать следующим образом.  \n",
    "Стартуем из точки $(0, 1)$.  \n",
    "Будем идти по ранжированной выборке, начиная с первого объекта;  \n",
    "пусть текущий объект находится на позиции $k$.  \n",
    "Если он относится к классу <<$-1$>>,  \n",
    "то полнота не меняется, точность падает --- соответственно, кривая опускается строго вниз.  \n",
    "Если же объект относится к классу <<$1$>>,  \n",
    "то полнота увеличивается на $1/\\ell_{+}$, точность растет, и кривая поднимается вправо и вверх.  \n",
    "Площадь под этим участком можно аппроксимировать площадью прямоугольника  \n",
    "с высотой, равной $\\text{precision}@k$ и шириной~$1/\\ell_{+}$.  "
   ]
  },
  {
   "cell_type": "raw",
   "metadata": {
    "id": "TtV5N0O_sL-9"
   },
   "source": [
    "Данная кривая обладает следующими свойствами:\n",
    "1. Левая точка всегда (0, 0)\n",
    "2. Правая точка зависит от баланса классов(1, N_1 / (N_1+N_0))\n",
    "3. Выборка иделаьно разделима - пройдем через точку (1, 1)\n",
    "4. Чем больше AUC (area under curve) - тем лучше"
   ]
  },
  {
   "cell_type": "markdown",
   "metadata": {
    "id": "Yht9EjzSsL--"
   },
   "source": [
    "Давайте введем две следующих величины: \n",
    "$$TPR = \\frac{TP}{TP+FN}$$\n",
    "$$FPR= \\frac{FP}{FP+TN}$$"
   ]
  },
  {
   "cell_type": "markdown",
   "metadata": {
    "id": "UQQmupTPsL--"
   },
   "source": [
    "TPR - число положительных срабатываний относительно общего числа примеров класса 1.\n",
    "<br>\n",
    "FPR - число отрицательных срабатываний относительно общего числа примеров класса 0."
   ]
  },
  {
   "cell_type": "raw",
   "metadata": {
    "id": "UOo5QsYVsL--"
   },
   "source": [
    "FPR называется специфичностью алгоритма\n",
    "TPR называется чувствительностью алгоритма"
   ]
  },
  {
   "cell_type": "markdown",
   "metadata": {
    "id": "gjCdCk2EsL-_"
   },
   "source": [
    "Давайте построим графики аналогичным образом для данных величин. "
   ]
  },
  {
   "cell_type": "markdown",
   "metadata": {
    "id": "hMiV3Lk8sL-_"
   },
   "source": [
    "<img src=\"../images/ROC-AUC.png\" style=\"width: 300px;\">"
   ]
  },
  {
   "cell_type": "raw",
   "metadata": {
    "id": "DeER-jtssL-_"
   },
   "source": [
    "Данная кривая обладает следующими свойствами:\n",
    "1. Левая точка всегда (0, 0)\n",
    "2. Правая точка всегда (1, 1)\n",
    "3. Выборка иделаьно разделима - пройдем через точку (0, 1)\n",
    "4. Площадь от 1/2 до 1.\n",
    "5. Чем больше площадь, тем лучше.\n",
    "6. 0.5 - случайное угадываение\n",
    "7. Площадь меньше 0.5 - перепутали метки"
   ]
  },
  {
   "cell_type": "markdown",
   "metadata": {
    "id": "IjST09BcsL_A"
   },
   "source": [
    "# Микро и макро усреднение "
   ]
  },
  {
   "cell_type": "raw",
   "metadata": {
    "id": "xmETR95asL_A"
   },
   "source": [
    "Пусть выборка состоит из 3 классов. Рассмотрим 3 двухклассовых задач, каждая\n",
    "из которых заключается в отделении своего класса от остальных(угадал свой класс, молодец, назвал любой другой - неправильно).\n",
    "Для каждой из них можно вычислить различные характеристики (TP, FP, и т.д.).\n",
    "При микро-усреднении сначала эти характеристики усредняются по всем классам, а\n",
    "затем вычисляется итоговая двухклассовая метрика — например, точность, полнота\n",
    "или F-мера. При макро-усреднении сначала вычисляется итоговая метрика для \n",
    "каждого класса, а затем результаты усредняются по всем классам."
   ]
  },
  {
   "cell_type": "markdown",
   "metadata": {
    "id": "S-SezcinsL_A"
   },
   "source": [
    "<img src=\"../images/micro_macro.png\" style=\"width: 300px;\">"
   ]
  },
  {
   "cell_type": "markdown",
   "metadata": {
    "id": "WzwT-pCWsL_A"
   },
   "source": [
    "Детальное решение задач на ROC-AUC:  \n",
    "https://github.com/esokolov/ml-course-hse/blob/master/2020-fall/seminars/sem05-linclass-metrics.pdf"
   ]
  },
  {
   "cell_type": "markdown",
   "metadata": {
    "id": "2Z-3PdifsL_B"
   },
   "source": [
    "### Метод К ближайших соседей на NumPy"
   ]
  },
  {
   "cell_type": "code",
   "execution_count": null,
   "metadata": {
    "id": "vvtLOpulsL_B"
   },
   "outputs": [],
   "source": [
    "%matplotlib inline\n",
    "\n",
    "import matplotlib.pyplot as plt\n",
    "import numpy as np"
   ]
  },
  {
   "cell_type": "code",
   "execution_count": null,
   "metadata": {
    "id": "7zd9mSacsL_B"
   },
   "outputs": [],
   "source": [
    "X_train = np.random.random([10, 2])\n",
    "X_test = np.random.random([3, 2])"
   ]
  },
  {
   "cell_type": "code",
   "execution_count": null,
   "metadata": {
    "id": "iDe9ZmqasL_C",
    "outputId": "c53b3e45-9f70-486f-937d-5b7d3a149e44"
   },
   "outputs": [
    {
     "name": "stdout",
     "output_type": "stream",
     "text": [
      "[[0.81736753 0.46820523]\n",
      " [0.967618   0.96430273]\n",
      " [0.29077121 0.01014724]\n",
      " [0.16213816 0.04584568]\n",
      " [0.80479752 0.35767846]\n",
      " [0.48022324 0.92081175]\n",
      " [0.89034131 0.76641742]\n",
      " [0.28235939 0.94776612]\n",
      " [0.44322937 0.6226806 ]\n",
      " [0.7852247  0.24676521]]\n",
      "\n",
      "[[0.84328582 0.3886123 ]\n",
      " [0.34534806 0.1457515 ]\n",
      " [0.53875027 0.51012265]]\n"
     ]
    }
   ],
   "source": [
    "print(X_train)\n",
    "print()\n",
    "print(X_test)"
   ]
  },
  {
   "cell_type": "code",
   "execution_count": null,
   "metadata": {
    "id": "K0UYxVJYsL_C",
    "outputId": "03cdb22e-791f-4122-dfd7-80725198e8c3"
   },
   "outputs": [
    {
     "data": {
      "text/plain": [
       "0.02591829000000001"
      ]
     },
     "execution_count": 16,
     "metadata": {},
     "output_type": "execute_result"
    }
   ],
   "source": [
    "0.84328582 - 0.81736753"
   ]
  },
  {
   "cell_type": "code",
   "execution_count": null,
   "metadata": {
    "id": "8bb2v1iGsL_D",
    "outputId": "2b484396-0842-4b82-f51f-b88143068900"
   },
   "outputs": [
    {
     "data": {
      "text/plain": [
       "<matplotlib.collections.PathCollection at 0x7f8e602ddf10>"
      ]
     },
     "execution_count": 6,
     "metadata": {},
     "output_type": "execute_result"
    },
    {
     "data": {
      "image/png": "[encoded data removed]",
      "text/plain": [
       "<Figure size 432x288 with 1 Axes>"
      ]
     },
     "metadata": {
      "needs_background": "light"
     },
     "output_type": "display_data"
    }
   ],
   "source": [
    "plt.scatter(X_train[:, 0], X_train[:, 1], color = 'g')\n",
    "plt.scatter(X_test[:, 0], X_test[:, 1], color = 'r')"
   ]
  },
  {
   "cell_type": "code",
   "execution_count": null,
   "metadata": {
    "id": "Q94xWmewsL_D",
    "outputId": "b2a3bfa2-f652-4e5d-f19c-115badd0f085"
   },
   "outputs": [
    {
     "data": {
      "text/plain": [
       "(3, 10, 2)"
      ]
     },
     "execution_count": 7,
     "metadata": {},
     "output_type": "execute_result"
    }
   ],
   "source": [
    "diff = X_test[:, np.newaxis, :] - X_train[np.newaxis, :, :]\n",
    "diff.shape"
   ]
  },
  {
   "cell_type": "code",
   "execution_count": null,
   "metadata": {
    "id": "29NwlUcpsL_E"
   },
   "outputs": [],
   "source": [
    "# (3, 1, 2) (1, 10 ,2) -> (3, 10, 2)"
   ]
  },
  {
   "cell_type": "code",
   "execution_count": null,
   "metadata": {
    "id": "F9BaLo36sL_E",
    "outputId": "0dfefa6b-2318-42f9-94d5-fcca7ac1ed9d"
   },
   "outputs": [
    {
     "name": "stdout",
     "output_type": "stream",
     "text": [
      "[[[ 0.02591829 -0.07959293]\n",
      "  [-0.12433218 -0.57569043]\n",
      "  [ 0.55251461  0.37846506]\n",
      "  [ 0.68114766  0.34276662]\n",
      "  [ 0.0384883   0.03093383]\n",
      "  [ 0.36306258 -0.53219945]\n",
      "  [-0.04705549 -0.37780512]\n",
      "  [ 0.56092643 -0.55915383]\n",
      "  [ 0.40005645 -0.2340683 ]\n",
      "  [ 0.05806112  0.14184709]]\n",
      "\n",
      " [[-0.47201947 -0.32245374]\n",
      "  [-0.62226995 -0.81855124]\n",
      "  [ 0.05457685  0.13560426]\n",
      "  [ 0.1832099   0.09990582]\n",
      "  [-0.45944947 -0.21192697]\n",
      "  [-0.13487518 -0.77506025]\n",
      "  [-0.54499325 -0.62066592]\n",
      "  [ 0.06298866 -0.80201463]\n",
      "  [-0.09788132 -0.4769291 ]\n",
      "  [-0.43987664 -0.10101371]]\n",
      "\n",
      " [[-0.27861726  0.04191741]\n",
      "  [-0.42886773 -0.45418009]\n",
      "  [ 0.24797906  0.49997541]\n",
      "  [ 0.37661211  0.46427697]\n",
      "  [-0.26604725  0.15244418]\n",
      "  [ 0.05852703 -0.4106891 ]\n",
      "  [-0.35159104 -0.25629477]\n",
      "  [ 0.25639087 -0.43764348]\n",
      "  [ 0.0955209  -0.11255795]\n",
      "  [-0.24647443  0.26335744]]]\n"
     ]
    }
   ],
   "source": [
    "print(diff)"
   ]
  },
  {
   "cell_type": "code",
   "execution_count": null,
   "metadata": {
    "id": "k0nNGKl6sL_E",
    "outputId": "56e52f59-9bc2-46a0-9f32-e51e0af3bd0f"
   },
   "outputs": [
    {
     "data": {
      "text/plain": [
       "(3, 10, 2)"
      ]
     },
     "execution_count": 10,
     "metadata": {},
     "output_type": "execute_result"
    }
   ],
   "source": [
    "sq_diff = diff ** 2\n",
    "sq_diff.shape"
   ]
  },
  {
   "cell_type": "code",
   "execution_count": null,
   "metadata": {
    "id": "AXdVJJYVsL_F",
    "outputId": "895ac9c8-e406-45de-9aa2-8317acdc83f3"
   },
   "outputs": [
    {
     "name": "stdout",
     "output_type": "stream",
     "text": [
      "[[[0.00067176 0.00633504]\n",
      "  [0.01545849 0.33141948]\n",
      "  [0.3052724  0.1432358 ]\n",
      "  [0.46396214 0.11748895]\n",
      "  [0.00148135 0.0009569 ]\n",
      "  [0.13181444 0.28323625]\n",
      "  [0.00221422 0.14273671]\n",
      "  [0.31463846 0.312653  ]\n",
      "  [0.16004516 0.05478797]\n",
      "  [0.00337109 0.0201206 ]]\n",
      "\n",
      " [[0.22280238 0.10397641]\n",
      "  [0.38721989 0.67002613]\n",
      "  [0.00297863 0.01838851]\n",
      "  [0.03356587 0.00998117]\n",
      "  [0.21109381 0.04491304]\n",
      "  [0.01819132 0.60071839]\n",
      "  [0.29701765 0.38522618]\n",
      "  [0.00396757 0.64322746]\n",
      "  [0.00958075 0.22746137]\n",
      "  [0.19349146 0.01020377]]\n",
      "\n",
      " [[0.07762758 0.00175707]\n",
      "  [0.18392753 0.20627955]\n",
      "  [0.06149362 0.24997541]\n",
      "  [0.14183668 0.2155531 ]\n",
      "  [0.07078114 0.02323923]\n",
      "  [0.00342541 0.16866554]\n",
      "  [0.12361626 0.06568701]\n",
      "  [0.06573628 0.19153181]\n",
      "  [0.00912424 0.01266929]\n",
      "  [0.06074964 0.06935714]]]\n"
     ]
    }
   ],
   "source": [
    "print(sq_diff)"
   ]
  },
  {
   "cell_type": "code",
   "execution_count": null,
   "metadata": {
    "id": "7WCq7Mh4sL_F",
    "outputId": "fa0e991d-eb3a-44dd-9965-39f89fdaaeab"
   },
   "outputs": [
    {
     "data": {
      "text/plain": [
       "(3, 10)"
      ]
     },
     "execution_count": 12,
     "metadata": {},
     "output_type": "execute_result"
    }
   ],
   "source": [
    "dist_sq = sq_diff.sum(-1)\n",
    "dist_sq.shape"
   ]
  },
  {
   "cell_type": "code",
   "execution_count": null,
   "metadata": {
    "id": "EKU9kd2wsL_F",
    "outputId": "cb0426ed-df06-45f3-ba9e-b3d62d6abbe4"
   },
   "outputs": [
    {
     "name": "stdout",
     "output_type": "stream",
     "text": [
      "[[0.00700679 0.34687797 0.4485082  0.58145109 0.00243825 0.41505069\n",
      "  0.14495093 0.62729146 0.21483313 0.02349169]\n",
      " [0.32677879 1.05724601 0.02136715 0.04354704 0.25600685 0.61890971\n",
      "  0.68224383 0.64719503 0.23704212 0.20369523]\n",
      " [0.07938465 0.39020708 0.31146902 0.35738978 0.09402037 0.17209095\n",
      "  0.18930327 0.25726809 0.02179353 0.13010678]]\n"
     ]
    }
   ],
   "source": [
    "print(dist_sq)"
   ]
  },
  {
   "cell_type": "code",
   "execution_count": null,
   "metadata": {
    "id": "OqPmWEUZsL_G",
    "outputId": "9083ffd7-0f30-4d3d-d256-94f4bc4c8ad2"
   },
   "outputs": [
    {
     "data": {
      "text/plain": [
       "(3, 10)"
      ]
     },
     "execution_count": 14,
     "metadata": {},
     "output_type": "execute_result"
    }
   ],
   "source": [
    "nearest = np.argsort(dist_sq, axis=1)\n",
    "nearest.shape"
   ]
  },
  {
   "cell_type": "code",
   "execution_count": null,
   "metadata": {
    "id": "rOVdWTsosL_G",
    "outputId": "8b0801f4-9215-4440-ae17-049ff4922c6d"
   },
   "outputs": [
    {
     "name": "stdout",
     "output_type": "stream",
     "text": [
      "[[4 0 9 6 8 1 5 2 3 7]\n",
      " [2 3 9 8 4 0 5 7 6 1]\n",
      " [8 0 4 9 5 6 7 2 3 1]]\n"
     ]
    }
   ],
   "source": [
    "print(nearest)"
   ]
  },
  {
   "cell_type": "code",
   "execution_count": null,
   "metadata": {
    "id": "PF6cLcWssL_H"
   },
   "outputs": [],
   "source": []
  }
 ],
 "metadata": {
  "colab": {
   "name": "seminar 2.ipynb",
   "provenance": []
  },
  "kernelspec": {
   "display_name": "gptj_env",
   "language": "python",
   "name": "gptj_env"
  },
  "language_info": {
   "codemirror_mode": {
    "name": "ipython",
    "version": 3
   },
   "file_extension": ".py",
   "mimetype": "text/x-python",
   "name": "python",
   "nbconvert_exporter": "python",
   "pygments_lexer": "ipython3",
   "version": "3.9.12"
  }
 },
 "nbformat": 4,
 "nbformat_minor": 1
}
